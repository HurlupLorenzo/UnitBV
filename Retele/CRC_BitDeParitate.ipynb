{
 "cells": [
  {
   "cell_type": "markdown",
   "metadata": {},
   "source": [
    "### CRC"
   ]
  },
  {
   "cell_type": "code",
   "execution_count": 12,
   "metadata": {},
   "outputs": [
    {
     "name": "stdout",
     "output_type": "stream",
     "text": [
      "M(x)\n",
      "110111001000010\n",
      "Codul:\n",
      "C(x)\n",
      "1011\n",
      "T(x):\n",
      "110111001000010000\n",
      "Restul: 110\n",
      "\n",
      "Mesajul final: 110111001000010110 este corect\n"
     ]
    }
   ],
   "source": [
    "print(\"M(x)\")\n",
    "m='110111001000010'\n",
    "print (m)\n",
    "print(\"Codul:\")\n",
    "print('C(x)')\n",
    "c='1011'\n",
    "print (c)\n",
    "print('T(x):')\n",
    "t=t=m+'0'*(len(c)-1)\n",
    "print(t)\n",
    "def logical_xor(a, b):\n",
    "    if a == b:\n",
    "        return 0\n",
    "    else:\n",
    "        return 1\n",
    "\n",
    "def mesaj(mesaj,cod):\n",
    "    while len(mesaj)>=4:\n",
    "        a=mesaj[0:len(cod)] #subsir de lungimea codului\n",
    "        b=''\n",
    "        for i in range(0,len(cod)):\n",
    "            b+=str(logical_xor(a[i],cod[i]))\n",
    "        mesaj=mesaj.replace(mesaj[0:len(cod)],b)\n",
    "        while mesaj[0]=='0' and len(mesaj)>=len(cod): \n",
    "\n",
    "            #STERGE TOTI 0\n",
    "            mesaj=mesaj[1:]\n",
    "    return mesaj\n",
    "\n",
    "r=mesaj(t,c)\n",
    "print ('Restul:',r)\n",
    "print()\n",
    "\n",
    "def mesajTrimis(mesaj,rest):\n",
    "    a=mesaj[len(mesaj)-len(rest):]\n",
    "    b=''\n",
    "    for i in range(0,len(rest)):\n",
    "        b+=str(logical_xor(a[i],rest[i]))\n",
    "    mesaj=mesaj[0:len(mesaj)-len(rest)]\n",
    "    mesaj=mesaj+b\n",
    "    return mesaj\n",
    "\n",
    "def verificareEroare(err):\n",
    "        for i in err:\n",
    "            if i=='1':\n",
    "                return False\n",
    "        return True\n",
    "\n",
    "final_message=mesajTrimis(t,r)\n",
    "eroare=mesaj(final_message,c)\n",
    "if verificareEroare(eroare)==True:\n",
    "    print(\"Mesajul final:\",final_message,'este corect')\n",
    "else:\n",
    "     print(\"Mesajul final:\",final_message,'este incorect')\n"
   ]
  },
  {
   "cell_type": "markdown",
   "metadata": {},
   "source": [
    "### BitDeParitate\n"
   ]
  },
  {
   "cell_type": "code",
   "execution_count": 23,
   "metadata": {},
   "outputs": [
    {
     "name": "stdout",
     "output_type": "stream",
     "text": [
      "M(x)\n",
      "110111001000010\n",
      "['1101110' '0100001' '0000000']\n",
      "[[1. 1. 0. 1. 1. 1. 0.]\n",
      " [0. 1. 0. 0. 0. 0. 1.]\n",
      " [0. 0. 0. 0. 0. 0. 0.]]\n"
     ]
    }
   ],
   "source": [
    "import numpy as np\n",
    "print(\"M(x)\")\n",
    "m='110111001000010'\n",
    "print (m)\n",
    "def adding_zero(inc):\n",
    "    while len(inc) <= 7:\n",
    "        inc += '0'\n",
    "    return inc\n",
    "        \n",
    "def create_matrix(m):\n",
    "    n = 7\n",
    "    #spliting m\n",
    "    table = np.array([m[i:i+n] for i in range(0, len(m), n)])\n",
    "    #adding needed zeros to last row\n",
    "    if len(table[-1]) < 7:\n",
    "        table[-1] = adding_zero(table[-1])\n",
    "    print(table)\n",
    "    #convert into matrix\n",
    "    matrix = np.zeros((len(table),7))\n",
    "    for i in range(len(table)):\n",
    "        for j in range(len(table[i])):\n",
    "            matrix[i][j] = table[i][j]\n",
    "    return matrix\n",
    "\n",
    "def bits(matrix):\n",
    "    \n",
    "            "
   ]
  },
  {
   "cell_type": "code",
   "execution_count": null,
   "metadata": {},
   "outputs": [],
   "source": []
  }
 ],
 "metadata": {
  "kernelspec": {
   "display_name": "Python 3",
   "language": "python",
   "name": "python3"
  },
  "language_info": {
   "codemirror_mode": {
    "name": "ipython",
    "version": 3
   },
   "file_extension": ".py",
   "mimetype": "text/x-python",
   "name": "python",
   "nbconvert_exporter": "python",
   "pygments_lexer": "ipython3",
   "version": "3.7.1"
  }
 },
 "nbformat": 4,
 "nbformat_minor": 2
}

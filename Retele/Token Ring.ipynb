{
 "cells": [
  {
   "cell_type": "code",
   "execution_count": 45,
   "metadata": {},
   "outputs": [
    {
     "name": "stdout",
     "output_type": "stream",
     "text": [
      "['193.18.65.86 \\n', '168.18.25.86 \\n', '148.19.95.86 \\n', '181.18.95.26 \\n', '141.18.56.86 \\n', '190.28.95.86']\n",
      "Welcome!\n",
      "The token arrived at ip 193.18.65.86\n",
      "\n",
      "This is not the destination.\n",
      "The token arrived at ip 168.18.25.86\n",
      "\n",
      "This is not the destination.\n",
      "The token arrived at ip 148.19.95.86\n",
      "\n",
      "This is not the destination.\n",
      "The token arrived at ip 181.18.95.26\n",
      "\n",
      "This is not the destination.\n",
      "The token arrived at ip 141.18.56.86\n",
      "\n",
      "Current ip(141.18.56.86\n",
      ") is the destination!Congrats!\n",
      "Token already reached the destination please proceed until reach source.\n",
      "The token arrived at ip 190.28.95.86\n",
      "Token already reached the destination please proceed until reach source.\n",
      "Source reached!Welcome back!\n"
     ]
    }
   ],
   "source": [
    "#!/usr/bin/python\n",
    "\n",
    "# Open a file\n",
    "def read_ips():\n",
    "    fo = open(\"tokenRingIps.txt\", \"r\")\n",
    "    ip_list = []\n",
    "    for x in fo:\n",
    "        ip_list.append(x)\n",
    "    print(ip_list)\n",
    "\n",
    "class Token:\n",
    "   def __init__(self ,ip_source, ip_destination, arrived, history, massage):\n",
    "        self.ip_source = ip_source\n",
    "        self.ip_destination = ip_destination\n",
    "        self.arrived = arrived\n",
    "        self.history = history\n",
    "        self.massage = massage\n",
    "def __main__():\n",
    "    read_ips();\n",
    "    token = Token( ip_list[0], ip_list[4] , False , [] , \"Welcome!\")\n",
    "    for x in ip_list:\n",
    "        token.history.append(\"The token arrived at ip \" + str(x))\n",
    "        if token.arrived == False:\n",
    "            if token.ip_destination == x:\n",
    "                print(token.massage)\n",
    "                token.history.append(\"Current ip(\" + str(x) + \") is the destination!Congrats!\")\n",
    "                token.arrived = True\n",
    "        if token.arrived == False:\n",
    "            token.history.append(\"This is not the destination.\")\n",
    "        elif token.arrived == True and x != ip_list[0]:\n",
    "            token.history.append(\"Token already reached the destination please proceed until reach source.\")\n",
    "    token.history.append(\"Source reached!Welcome back!\")\n",
    "    print(\"\\n\".join(token.history))\n",
    "__main__()"
   ]
  },
  {
   "cell_type": "code",
   "execution_count": null,
   "metadata": {},
   "outputs": [],
   "source": []
  }
 ],
 "metadata": {
  "kernelspec": {
   "display_name": "Python 3",
   "language": "python",
   "name": "python3"
  },
  "language_info": {
   "codemirror_mode": {
    "name": "ipython",
    "version": 3
   },
   "file_extension": ".py",
   "mimetype": "text/x-python",
   "name": "python",
   "nbconvert_exporter": "python",
   "pygments_lexer": "ipython3",
   "version": "3.7.1"
  }
 },
 "nbformat": 4,
 "nbformat_minor": 2
}

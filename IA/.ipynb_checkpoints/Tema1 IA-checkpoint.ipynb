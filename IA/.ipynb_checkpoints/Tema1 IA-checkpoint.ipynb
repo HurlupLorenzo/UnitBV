{
 "cells": [
  {
   "cell_type": "code",
   "execution_count": 29,
   "metadata": {},
   "outputs": [
    {
     "name": "stdout",
     "output_type": "stream",
     "text": [
      "[[ 7.    0.27  0.36 ...  3.    0.45  8.8 ]\n",
      " [ 6.3   0.3   0.34 ...  3.3   0.49  9.5 ]\n",
      " [ 8.1   0.28  0.4  ...  3.26  0.44 10.1 ]\n",
      " ...\n",
      " [ 6.5   0.24  0.19 ...  2.99  0.46  9.4 ]\n",
      " [ 5.5   0.29  0.3  ...  3.34  0.38 12.8 ]\n",
      " [ 6.    0.21  0.38 ...  3.26  0.32 11.8 ]]\n",
      "y este:\n",
      "\n",
      "[[ 7.    0.27  0.36 ...  3.    0.45  8.8 ]\n",
      " [ 6.3   0.3   0.34 ...  3.3   0.49  9.5 ]\n",
      " [ 8.1   0.28  0.4  ...  3.26  0.44 10.1 ]\n",
      " ...\n",
      " [ 6.5   0.24  0.19 ...  2.99  0.46  9.4 ]\n",
      " [ 5.5   0.29  0.3  ...  3.34  0.38 12.8 ]\n",
      " [ 6.    0.21  0.38 ...  3.26  0.32 11.8 ]]\n",
      "J_error = 0.26884243200732866\n"
     ]
    },
    {
     "data": {
      "image/png": "[encoded data removed]",
      "text/plain": [
       "<Figure size 432x288 with 1 Axes>"
      ]
     },
     "metadata": {
      "needs_background": "light"
     },
     "output_type": "display_data"
    },
    {
     "data": {
      "image/png": "[encoded data removed]",
      "text/plain": [
       "<Figure size 864x576 with 1 Axes>"
      ]
     },
     "metadata": {
      "needs_background": "light"
     },
     "output_type": "display_data"
    }
   ],
   "source": [
    "import numpy as np\n",
    "\n",
    "import pandas as pd\n",
    "import matplotlib.pyplot as plt\n",
    "import matplotlib.animation as animation\n",
    "\n",
    "\n",
    "def cout_matrix():\n",
    "    data = pd.read_csv('winequality-white.csv', delimiter=';')\n",
    "    x = data.values[0:, 0:-1].copy()\n",
    "    y = data.values[:, -1].copy()\n",
    "    return x, y, data\n",
    "# step1\n",
    "def scale_matrix(matrix):\n",
    "    print(matrix)\n",
    "    max_j = np.max(matrix, axis=0);\n",
    "    min_j = np.min(matrix, axis=0);\n",
    "    np.seterr(divide='ignore', invalid='ignore')\n",
    "    scale_mat = (matrix - min_j) / (max_j - min_j)\n",
    "    # print(scale_mat)\n",
    "    return scale_mat, max_j, min_j\n",
    "\n",
    "\n",
    "# step2\n",
    "def add_constant_column(matrix):\n",
    "    mat, max, min = scale_matrix(matrix)\n",
    "    new_matrix = np.insert(mat, 0, values=1, axis=1)\n",
    "    # print(new_matrix)\n",
    "    return new_matrix\n",
    "\n",
    "\n",
    "# step4\n",
    "def calculate_coefficients(matrix, y_mat):\n",
    "    coefficents = np.linalg.pinv(matrix).dot(y_mat)\n",
    "    return coefficents.transpose()\n",
    "\n",
    "\n",
    "# step3part1\n",
    "def cal_cost(theta, X, y):\n",
    "    m = len(y)\n",
    "    predictions =np.dot(X, theta.transpose())\n",
    "    #X.dot(theta.transpose())\n",
    "    cost = (1 / (2 * m)) * sum(np.square(predictions - y))\n",
    "    return cost, predictions\n",
    "\n",
    "\n",
    "# def minimum_cost(matrix):\n",
    "#     matrix_J=matrix\n",
    "# step3part2\n",
    "def gradient_descent(X, y, theta, learning_rate=0.01, iterations=100):\n",
    "    '''\n",
    "    X    = Matrix of X with added bias units\n",
    "    y    = Vector of Y\n",
    "    theta=Vector of thetas np.random.randn(j,1)\n",
    "    learning_rate\n",
    "    iterations = no of iterations\n",
    "\n",
    "    Returns the final theta vector and array of cost history over no of iterations\n",
    "    '''\n",
    "    matrix=add_constant_column(X)\n",
    "    theta = np.random.rand(len(matrix[0]))\n",
    "\n",
    "    m = len(y)\n",
    "    cost_history = np.zeros(iterations)\n",
    "    for it in range(iterations):\n",
    "        cost, predictions=cal_cost(theta, matrix, y)\n",
    "        theta = theta - learning_rate * sum(np.dot(predictions - y, matrix))/len(y)\n",
    "        cost_history[it],predictions = cal_cost(theta, matrix, y)\n",
    "\n",
    "    return theta, cost_history #,theta_history\n",
    "\n",
    "\n",
    "lr = 0.01\n",
    "n_iter = 1000\n",
    "\n",
    "theta = np.random.randn(2, 1)\n",
    "X,y,data=cout_matrix()\n",
    "print(X)\n",
    "print(\"y este:\\n\")\n",
    "plt.plot(X,y,'b.')\n",
    "plt.xlabel(\"$x$\", fontsize=18)\n",
    "plt.ylabel(\"$y$\", rotation=0, fontsize=18)\n",
    "_ =plt.axis([0,2,0,15])\n",
    "\n",
    "lr =0.01\n",
    "n_iter = 1000\n",
    "theta,cost_history = gradient_descent(X,y,theta,lr,n_iter)\n",
    "\n",
    "\n",
    "fig,ax = plt.subplots(figsize=(12,8))\n",
    "\n",
    "ax.set_ylabel('J(Theta)')\n",
    "ax.set_xlabel('Iterations')\n",
    "_=ax.plot(range(n_iter),cost_history,'b.')\n",
    "\n",
    "\n",
    "#step5\n",
    "mixt_data = data.values[:, :].copy()\n",
    "np.random.shuffle(mixt_data)\n",
    "\n",
    "training_dates = mixt_data[:int(len(mixt_data)*0.7)]\n",
    "testing_dates = mixt_data[int(len(mixt_data)*0.7):]\n",
    "\n",
    "features = training_dates[0:, 0:-1].copy()\n",
    "quality = training_dates[:, -1].copy()\n",
    "\n",
    "features = testing_dates[0:, 0:-1].copy()\n",
    "quality = testing_dates[:, -1].copy()\n",
    "\n",
    "theta = calculate_coefficients(features, quality)\n",
    "\n",
    "error_J= sum(np.square(np.dot(features, theta.transpose()) - quality))/(2*len(quality))\n",
    "print('J_error =', error_J)\n"
   ]
  },
  {
   "cell_type": "code",
   "execution_count": null,
   "metadata": {},
   "outputs": [],
   "source": []
  },
  {
   "cell_type": "code",
   "execution_count": null,
   "metadata": {},
   "outputs": [],
   "source": []
  },
  {
   "cell_type": "code",
   "execution_count": null,
   "metadata": {},
   "outputs": [],
   "source": []
  }
 ],
 "metadata": {
  "kernelspec": {
   "display_name": "Python 3",
   "language": "python",
   "name": "python3"
  },
  "language_info": {
   "codemirror_mode": {
    "name": "ipython",
    "version": 3
   },
   "file_extension": ".py",
   "mimetype": "text/x-python",
   "name": "python",
   "nbconvert_exporter": "python",
   "pygments_lexer": "ipython3",
   "version": "3.7.1"
  }
 },
 "nbformat": 4,
 "nbformat_minor": 2
}

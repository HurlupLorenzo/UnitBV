{
 "cells": [
  {
   "cell_type": "markdown",
   "metadata": {},
   "source": [
    "### Ex1"
   ]
  },
  {
   "cell_type": "markdown",
   "metadata": {},
   "source": [
    "#### a) si b)"
   ]
  },
  {
   "cell_type": "code",
   "execution_count": 30,
   "metadata": {},
   "outputs": [
    {
     "name": "stderr",
     "output_type": "stream",
     "text": [
      "D:\\Anaconda3\\lib\\site-packages\\ipykernel_launcher.py:11: RuntimeWarning: invalid value encountered in true_divide\n",
      "  # This is added back by InteractiveShellApp.init_path()\n"
     ]
    },
    {
     "data": {
      "text/plain": [
       "array([[0.  , 2.  , 0.  , 0.  ],\n",
       "       [0.25, 2.  , 0.25, 0.25],\n",
       "       [0.5 , 2.  , 0.5 , 0.5 ],\n",
       "       [0.75, 2.  , 0.75, 0.75],\n",
       "       [1.  , 2.  , 1.  , 1.  ]])"
      ]
     },
     "execution_count": 30,
     "metadata": {},
     "output_type": "execute_result"
    }
   ],
   "source": [
    "import numpy as np\n",
    "\n",
    "matrix = np.array([[1,2,3,4],\n",
    "                  [5,2,7,8],\n",
    "                  [9,2,11,12],\n",
    "                  [13,2,15,16],\n",
    "                  [17,2,19,20]])\n",
    "def min_max(matrix):\n",
    "    maxim = np.max(matrix,axis=0)\n",
    "    minim = np.min(matrix,axis=0)\n",
    "    matrix = np.where(minim==maxim,matrix,(matrix-minim)/(maxim - minim))\n",
    "    return matrix\n",
    "min_max(matrix)"
   ]
  },
  {
   "cell_type": "markdown",
   "metadata": {},
   "source": [
    "### Ex2"
   ]
  },
  {
   "cell_type": "code",
   "execution_count": 36,
   "metadata": {},
   "outputs": [
    {
     "name": "stdout",
     "output_type": "stream",
     "text": [
      "5\n",
      "[[1.]\n",
      " [1.]\n",
      " [1.]\n",
      " [1.]\n",
      " [1.]]\n"
     ]
    },
    {
     "data": {
      "text/plain": [
       "array([[ 1.,  1.,  2.,  3.,  4.],\n",
       "       [ 1.,  5.,  2.,  7.,  8.],\n",
       "       [ 1.,  9.,  2., 11., 12.],\n",
       "       [ 1., 13.,  2., 15., 16.],\n",
       "       [ 1., 17.,  2., 19., 20.]])"
      ]
     },
     "execution_count": 36,
     "metadata": {},
     "output_type": "execute_result"
    }
   ],
   "source": [
    "print(len(matrix))\n",
    "def ones(matrix):\n",
    "    matrixS = np.ones((len(matrix),1))\n",
    "    print(matrixS)\n",
    "    return np.hstack((matrixS,matrix))\n",
    "ones(matrix)"
   ]
  },
  {
   "cell_type": "markdown",
   "metadata": {},
   "source": [
    "### Ex4"
   ]
  },
  {
   "cell_type": "code",
   "execution_count": 38,
   "metadata": {},
   "outputs": [
    {
     "name": "stdout",
     "output_type": "stream",
     "text": [
      "[[-0.15769231 -0.09807692 -0.03846154  0.02115385  0.08076923]\n",
      " [ 0.16923077  0.10769231  0.04615385 -0.01538462 -0.07692308]\n",
      " [ 0.01153846  0.00961538  0.00769231  0.00576923  0.00384615]\n",
      " [ 0.09615385  0.06346154  0.03076923 -0.00192308 -0.03461538]]\n"
     ]
    }
   ],
   "source": [
    "print(np.linalg.pinv(matrix))"
   ]
  },
  {
   "cell_type": "code",
   "execution_count": null,
   "metadata": {},
   "outputs": [],
   "source": []
  }
 ],
 "metadata": {
  "kernelspec": {
   "display_name": "Python 3",
   "language": "python",
   "name": "python3"
  },
  "language_info": {
   "codemirror_mode": {
    "name": "ipython",
    "version": 3
   },
   "file_extension": ".py",
   "mimetype": "text/x-python",
   "name": "python",
   "nbconvert_exporter": "python",
   "pygments_lexer": "ipython3",
   "version": "3.7.1"
  }
 },
 "nbformat": 4,
 "nbformat_minor": 2
}

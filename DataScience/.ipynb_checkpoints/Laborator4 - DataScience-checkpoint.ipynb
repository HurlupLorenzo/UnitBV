{
 "cells": [
  {
   "cell_type": "markdown",
   "metadata": {},
   "source": [
    "# Laborator 4"
   ]
  },
  {
   "cell_type": "markdown",
   "metadata": {},
   "source": [
    "## 1. Exercitii cu Pandas"
   ]
  },
  {
   "cell_type": "markdown",
   "metadata": {},
   "source": [
    "1. Incarcati setul de date in format tsv [https://raw.githubusercontent.com/justmarkham/DAT8/master/data/chipotle.tsv](https://raw.githubusercontent.com/justmarkham/DAT8/master/data/chipotle.tsv) intr-un obiect Pandas DataFrame.\n",
    "    1. (optional) Afisati primele 5 linii din tabel\n",
    "    1. (optional) Care este numarul de inregistrari din DataFrame?\n",
    "    1. (optional) Comparati iesirea metodelor `info()` si `describe()`.\n",
    "    1. (optional) Care e numarul de coloane? afisati numele lor.\n",
    "    1. (0.5 puncte) Cum e indexat setul de date? sunt valorile din index unice?\n",
    "    1. (0.5 puncte) Care sunt marfurile vandute, in ordine alfabetica? Cate sunt?\n",
    "    1. (0.5 puncte) Cate obiecte (items) au fost comandate, in total - suma pe coloana 'quantity'?\n",
    "    1. (0.5 puncte) Transformati intr-un alt dataframe coloana 'item_price' din stringuri in valori floating point. Care sunt preturile (minim, maxim, mediu, median) cu care s-a vandut produsul 'Chicken Crispy Tacos'? Cate astfel de produse au fost comandate in total? Care sunt veniturile obtinute din vanzarea acestui produs? *Nota*: puteti folosi metoda `describe()` a unui dataframe/series.\n",
    "    1. (0.5 puncte) Care sunt cele mai comandate 3 marfuri? Folositi `groupby()` pentru grupare, ne intereseaza cantitatile cele mai mari. *Nota:* sectiunea 'Aggregation and Grouping' din [Python Data Science Handbook](https://jakevdp.github.io/PythonDataScienceHandbook/) e utila pentru intelegerea agregarilor.\n",
    "    1. (0.5 puncte) De cate ori s-a comandat 'Veggie Salad Bowl'?\n",
    "    1. (0.5 puncte) De cate ori intr-o comanda s-au cerut mai mult de o 'Canned Soda'?\n",
    "    1. (0.5 puncte) Care sunt sumele incasate pentru fiecare comanda? atentie, pentru fiecare item comandat trebuie luat in considerare si cantitatea. Puteti crea coloane auxiliare (pret transformat din string in float, pret total pe acel item = pret_unitar * cantitate etc.)\n",
    "1. Incarcati setul de date de la [https://raw.githubusercontent.com/jokecamp/FootballData/master/UEFA_European_Championship/Euro%202012/Euro%202012%20stats%20TEAM.csv](https://raw.githubusercontent.com/jokecamp/FootballData/master/UEFA_European_Championship/Euro%202012/Euro%202012%20stats%20TEAM.csv) intr-un obiect Pandas DataFrame.\n",
    "    1. (optional) Cate echipe au participat la Euro 2012?\n",
    "    1. (optional) Sa se sorteze echipele dupa numarul de cartonase rosii, apoi dupa cele galbene, descrescator - sortare dupa criteriu dublu.\n",
    "    1. (0.5 puncte) Care e numarul mediu de cartonase rosii date? Dar mediana?\n",
    "    1. (0.5 puncte) Care sunt echipele care au luat mai multe cartonase rosii decat media?\n",
    "    1. (obligatoriu, 0 puncte) Care sunt echipele al caror nume incepe cu litera G? *Indicatie*: documentati-va despre Vectorized String Operations, sectiunea omonima din Ref bib 1 din curs 1.\n",
    "    1. (0.5 puncte) Care sunt Shooting accuracy pentru Anglia, Grecia, Rusia?\n",
    "1. Incarcati setul de date de la [https://raw.githubusercontent.com/justmarkham/DAT8/master/data/drinks.csv](https://raw.githubusercontent.com/justmarkham/DAT8/master/data/drinks.csv). Folosind grupari (`groupby`) dupa o documentare serioasa in sectiunea 'Aggregation and Grouping' din ref bibliografica [1] din primul curs, rezolvati:\n",
    "    1. (0.5 puncte) Pe care continent se bea mai multa bere, in medie?\n",
    "    1. (0.5 puncte) Pentru fiecare continent sa se afiseze statisticile pentru consumul de vin.\n",
    "    1. (0.5 puncte) Sa se tipareasca min, max, media pentru consumul de bere pe fiecare continent. Folositi functia `agg`."
   ]
  },
  {
   "cell_type": "markdown",
   "metadata": {},
   "source": [
    "**Precizari**:\n",
    "* Se acorda 3 puncte din oficiu.\n",
    "* Predarea se va face in saptamana 25-29 martie 2019.\n",
    "* Temele se pot lucra in echipa se se depun in acest caz in repository-urile github create pentru prima tema.\n",
    "* Punctajul problemelor va fi precizat in decursul acestei saptamanini, urmariti documentul."
   ]
  },
  {
   "cell_type": "markdown",
   "metadata": {},
   "source": [
    "## Ex 1\n",
    "### E."
   ]
  },
  {
   "cell_type": "code",
   "execution_count": 1,
   "metadata": {},
   "outputs": [
    {
     "data": {
      "text/html": [
       "<div>\n",
       "<style scoped>\n",
       "    .dataframe tbody tr th:only-of-type {\n",
       "        vertical-align: middle;\n",
       "    }\n",
       "\n",
       "    .dataframe tbody tr th {\n",
       "        vertical-align: top;\n",
       "    }\n",
       "\n",
       "    .dataframe thead th {\n",
       "        text-align: right;\n",
       "    }\n",
       "</style>\n",
       "<table border=\"1\" class=\"dataframe\">\n",
       "  <thead>\n",
       "    <tr style=\"text-align: right;\">\n",
       "      <th></th>\n",
       "      <th>order_id</th>\n",
       "      <th>quantity</th>\n",
       "      <th>item_name</th>\n",
       "      <th>choice_description</th>\n",
       "      <th>item_price</th>\n",
       "    </tr>\n",
       "  </thead>\n",
       "  <tbody>\n",
       "    <tr>\n",
       "      <th>0</th>\n",
       "      <td>1</td>\n",
       "      <td>1</td>\n",
       "      <td>Chips and Fresh Tomato Salsa</td>\n",
       "      <td>NaN</td>\n",
       "      <td>$2.39</td>\n",
       "    </tr>\n",
       "    <tr>\n",
       "      <th>1</th>\n",
       "      <td>1</td>\n",
       "      <td>1</td>\n",
       "      <td>Izze</td>\n",
       "      <td>[Clementine]</td>\n",
       "      <td>$3.39</td>\n",
       "    </tr>\n",
       "    <tr>\n",
       "      <th>2</th>\n",
       "      <td>1</td>\n",
       "      <td>1</td>\n",
       "      <td>Nantucket Nectar</td>\n",
       "      <td>[Apple]</td>\n",
       "      <td>$3.39</td>\n",
       "    </tr>\n",
       "  </tbody>\n",
       "</table>\n",
       "</div>"
      ],
      "text/plain": [
       "   order_id  quantity                     item_name choice_description  \\\n",
       "0         1         1  Chips and Fresh Tomato Salsa                NaN   \n",
       "1         1         1                          Izze       [Clementine]   \n",
       "2         1         1              Nantucket Nectar            [Apple]   \n",
       "\n",
       "  item_price  \n",
       "0     $2.39   \n",
       "1     $3.39   \n",
       "2     $3.39   "
      ]
     },
     "execution_count": 1,
     "metadata": {},
     "output_type": "execute_result"
    }
   ],
   "source": [
    "import pandas as pd\n",
    "import numpy as np\n",
    "\n",
    "url = 'https://raw.githubusercontent.com/justmarkham/DAT8/master/data/chipotle.tsv'\n",
    "url_data = pd.read_table(url,sep='\\t')\n",
    "url_data.head(3)"
   ]
  },
  {
   "cell_type": "markdown",
   "metadata": {},
   "source": [
    "#### Setul de date este indexat incepand de la valoarea 0 , iar aceste valori sunt unice"
   ]
  },
  {
   "cell_type": "markdown",
   "metadata": {},
   "source": [
    "### F."
   ]
  },
  {
   "cell_type": "code",
   "execution_count": 11,
   "metadata": {},
   "outputs": [
    {
     "name": "stdout",
     "output_type": "stream",
     "text": [
      "Marfuri vandute\n",
      "      order_id  quantity          item_name  \\\n",
      "3389      1360         2  6 Pack Soft Drink   \n",
      "341        148         1  6 Pack Soft Drink   \n",
      "1849       749         1  6 Pack Soft Drink   \n",
      "1860       754         1  6 Pack Soft Drink   \n",
      "2713      1076         1  6 Pack Soft Drink   \n",
      "3422      1373         1  6 Pack Soft Drink   \n",
      "553        230         1  6 Pack Soft Drink   \n",
      "1916       774         1  6 Pack Soft Drink   \n",
      "1922       776         1  6 Pack Soft Drink   \n",
      "1937       784         1  6 Pack Soft Drink   \n",
      "3836      1537         1  6 Pack Soft Drink   \n",
      "298        129         1  6 Pack Soft Drink   \n",
      "1976       798         1  6 Pack Soft Drink   \n",
      "1167       481         1  6 Pack Soft Drink   \n",
      "3875      1554         1  6 Pack Soft Drink   \n",
      "1124       465         1  6 Pack Soft Drink   \n",
      "3886      1558         1  6 Pack Soft Drink   \n",
      "2108       849         1  6 Pack Soft Drink   \n",
      "3010      1196         1  6 Pack Soft Drink   \n",
      "4535      1803         1  6 Pack Soft Drink   \n",
      "4169      1664         1  6 Pack Soft Drink   \n",
      "4174      1666         1  6 Pack Soft Drink   \n",
      "4527      1800         1  6 Pack Soft Drink   \n",
      "4522      1798         1  6 Pack Soft Drink   \n",
      "3806      1525         1  6 Pack Soft Drink   \n",
      "2389       949         1  6 Pack Soft Drink   \n",
      "3132      1248         1  6 Pack Soft Drink   \n",
      "3141      1253         1  6 Pack Soft Drink   \n",
      "639        264         1  6 Pack Soft Drink   \n",
      "1026       422         1  6 Pack Soft Drink   \n",
      "...        ...       ...                ...   \n",
      "2996      1192         1       Veggie Salad   \n",
      "3163      1263         1       Veggie Salad   \n",
      "4084      1635         1       Veggie Salad   \n",
      "1694       686         1       Veggie Salad   \n",
      "2756      1094         1       Veggie Salad   \n",
      "4201      1677         1  Veggie Salad Bowl   \n",
      "1884       760         1  Veggie Salad Bowl   \n",
      "455        195         1  Veggie Salad Bowl   \n",
      "3223      1289         1  Veggie Salad Bowl   \n",
      "2223       896         1  Veggie Salad Bowl   \n",
      "2269       913         1  Veggie Salad Bowl   \n",
      "4541      1805         1  Veggie Salad Bowl   \n",
      "3293      1321         1  Veggie Salad Bowl   \n",
      "186         83         1  Veggie Salad Bowl   \n",
      "960        394         1  Veggie Salad Bowl   \n",
      "1316       536         1  Veggie Salad Bowl   \n",
      "2156       869         1  Veggie Salad Bowl   \n",
      "4261      1700         1  Veggie Salad Bowl   \n",
      "295        128         1  Veggie Salad Bowl   \n",
      "4573      1818         1  Veggie Salad Bowl   \n",
      "2683      1066         1  Veggie Salad Bowl   \n",
      "496        207         1  Veggie Salad Bowl   \n",
      "4109      1646         1  Veggie Salad Bowl   \n",
      "738        304         1  Veggie Soft Tacos   \n",
      "3889      1559         2  Veggie Soft Tacos   \n",
      "2384       948         1  Veggie Soft Tacos   \n",
      "781        322         1  Veggie Soft Tacos   \n",
      "2851      1132         1  Veggie Soft Tacos   \n",
      "1699       688         1  Veggie Soft Tacos   \n",
      "1395       567         1  Veggie Soft Tacos   \n",
      "\n",
      "                                     choice_description item_price  \n",
      "3389                                        [Diet Coke]    $12.98   \n",
      "341                                         [Diet Coke]     $6.49   \n",
      "1849                                             [Coke]     $6.49   \n",
      "1860                                        [Diet Coke]     $6.49   \n",
      "2713                                             [Coke]     $6.49   \n",
      "3422                                             [Coke]     $6.49   \n",
      "553                                         [Diet Coke]     $6.49   \n",
      "1916                                        [Diet Coke]     $6.49   \n",
      "1922                                             [Coke]     $6.49   \n",
      "1937                                        [Diet Coke]     $6.49   \n",
      "3836                                             [Coke]     $6.49   \n",
      "298                                            [Sprite]     $6.49   \n",
      "1976                                        [Diet Coke]     $6.49   \n",
      "1167                                             [Coke]     $6.49   \n",
      "3875                                        [Diet Coke]     $6.49   \n",
      "1124                                             [Coke]     $6.49   \n",
      "3886                                        [Diet Coke]     $6.49   \n",
      "2108                                             [Coke]     $6.49   \n",
      "3010                                        [Diet Coke]     $6.49   \n",
      "4535                                         [Lemonade]     $6.49   \n",
      "4169                                        [Diet Coke]     $6.49   \n",
      "4174                                             [Coke]     $6.49   \n",
      "4527                                        [Diet Coke]     $6.49   \n",
      "4522                                        [Diet Coke]     $6.49   \n",
      "3806                                           [Sprite]     $6.49   \n",
      "2389                                             [Coke]     $6.49   \n",
      "3132                                        [Diet Coke]     $6.49   \n",
      "3141                                         [Lemonade]     $6.49   \n",
      "639                                         [Diet Coke]     $6.49   \n",
      "1026                                           [Sprite]     $6.49   \n",
      "...                                                 ...        ...  \n",
      "2996  [Roasted Chili Corn Salsa (Medium), [Black Bea...     $8.49   \n",
      "3163  [[Fresh Tomato Salsa (Mild), Roasted Chili Cor...     $8.49   \n",
      "4084  [[Fresh Tomato Salsa (Mild), Roasted Chili Cor...     $8.49   \n",
      "1694  [[Fresh Tomato Salsa (Mild), Roasted Chili Cor...     $8.49   \n",
      "2756  [[Tomatillo-Green Chili Salsa (Medium), Roaste...     $8.49   \n",
      "4201  [Fresh Tomato Salsa, [Fajita Vegetables, Black...    $11.25   \n",
      "1884  [Fresh Tomato Salsa, [Fajita Vegetables, Rice,...    $11.25   \n",
      "455   [Fresh Tomato Salsa, [Fajita Vegetables, Rice,...    $11.25   \n",
      "3223  [Tomatillo Red Chili Salsa, [Fajita Vegetables...    $11.25   \n",
      "2223      [Roasted Chili Corn Salsa, Fajita Vegetables]     $8.75   \n",
      "2269  [Fresh Tomato Salsa, [Fajita Vegetables, Rice,...     $8.75   \n",
      "4541  [Tomatillo Green Chili Salsa, [Fajita Vegetabl...     $8.75   \n",
      "3293  [Fresh Tomato Salsa, [Rice, Black Beans, Chees...     $8.75   \n",
      "186   [Fresh Tomato Salsa, [Fajita Vegetables, Rice,...    $11.25   \n",
      "960   [Fresh Tomato Salsa, [Fajita Vegetables, Lettu...     $8.75   \n",
      "1316  [Fresh Tomato Salsa, [Fajita Vegetables, Rice,...     $8.75   \n",
      "2156  [Tomatillo Red Chili Salsa, [Fajita Vegetables...    $11.25   \n",
      "4261  [Fresh Tomato Salsa, [Fajita Vegetables, Rice,...    $11.25   \n",
      "295   [Fresh Tomato Salsa, [Fajita Vegetables, Lettu...    $11.25   \n",
      "4573  [Fresh Tomato Salsa, [Fajita Vegetables, Pinto...     $8.75   \n",
      "2683  [Roasted Chili Corn Salsa, [Fajita Vegetables,...     $8.75   \n",
      "496   [Fresh Tomato Salsa, [Rice, Lettuce, Guacamole...    $11.25   \n",
      "4109  [Tomatillo Red Chili Salsa, [Fajita Vegetables...    $11.25   \n",
      "738   [Tomatillo Red Chili Salsa, [Fajita Vegetables...    $11.25   \n",
      "3889  [Fresh Tomato Salsa (Mild), [Black Beans, Rice...    $16.98   \n",
      "2384  [Roasted Chili Corn Salsa, [Fajita Vegetables,...     $8.75   \n",
      "781   [Fresh Tomato Salsa, [Black Beans, Cheese, Sou...     $8.75   \n",
      "2851  [Roasted Chili Corn Salsa (Medium), [Black Bea...     $8.49   \n",
      "1699  [Fresh Tomato Salsa, [Fajita Vegetables, Rice,...    $11.25   \n",
      "1395  [Fresh Tomato Salsa (Mild), [Pinto Beans, Rice...     $8.49   \n",
      "\n",
      "[4622 rows x 5 columns]\n",
      "order_id              4622\n",
      "quantity              4622\n",
      "item_name             4622\n",
      "choice_description    3376\n",
      "item_price            4622\n",
      "dtype: int64\n"
     ]
    }
   ],
   "source": [
    "print(\"Marfuri vandute\")\n",
    "print(url_data.sort_values('item_name'))\n",
    "print(url_data.count())"
   ]
  },
  {
   "cell_type": "markdown",
   "metadata": {},
   "source": [
    "### G."
   ]
  },
  {
   "cell_type": "code",
   "execution_count": 12,
   "metadata": {},
   "outputs": [
    {
     "name": "stdout",
     "output_type": "stream",
     "text": [
      "In numar de : 4972\n"
     ]
    }
   ],
   "source": [
    "print(\"In numar de :\",url_data['quantity'].sum(axis=0))"
   ]
  },
  {
   "cell_type": "markdown",
   "metadata": {},
   "source": [
    "### H."
   ]
  },
  {
   "cell_type": "code",
   "execution_count": null,
   "metadata": {},
   "outputs": [],
   "source": []
  }
 ],
 "metadata": {
  "kernelspec": {
   "display_name": "Python 3",
   "language": "python",
   "name": "python3"
  },
  "language_info": {
   "codemirror_mode": {
    "name": "ipython",
    "version": 3
   },
   "file_extension": ".py",
   "mimetype": "text/x-python",
   "name": "python",
   "nbconvert_exporter": "python",
   "pygments_lexer": "ipython3",
   "version": "3.7.1"
  },
  "toc": {
   "base_numbering": 1,
   "nav_menu": {},
   "number_sections": true,
   "sideBar": true,
   "skip_h1_title": false,
   "title_cell": "Table of Contents",
   "title_sidebar": "Contents",
   "toc_cell": false,
   "toc_position": {},
   "toc_section_display": true,
   "toc_window_display": false
  },
  "varInspector": {
   "cols": {
    "lenName": 16,
    "lenType": 16,
    "lenVar": 40
   },
   "kernels_config": {
    "python": {
     "delete_cmd_postfix": "",
     "delete_cmd_prefix": "del ",
     "library": "var_list.py",
     "varRefreshCmd": "print(var_dic_list())"
    },
    "r": {
     "delete_cmd_postfix": ") ",
     "delete_cmd_prefix": "rm(",
     "library": "var_list.r",
     "varRefreshCmd": "cat(var_dic_list()) "
    }
   },
   "types_to_exclude": [
    "module",
    "function",
    "builtin_function_or_method",
    "instance",
    "_Feature"
   ],
   "window_display": false
  }
 },
 "nbformat": 4,
 "nbformat_minor": 2
}
